{
  "nbformat": 4,
  "nbformat_minor": 0,
  "metadata": {
    "colab": {
      "name": "Weighted Average Rank.ipynb",
      "provenance": [],
      "collapsed_sections": [
        "7bCrCSua0J76",
        "NUe_1Y4H1dka",
        "GgVtbR5Q1uei",
        "M3VNPUru0V0x"
      ],
      "authorship_tag": "ABX9TyM9EUoK9B7WBPS52mNwTLbc",
      "include_colab_link": true
    },
    "kernelspec": {
      "name": "python3",
      "display_name": "Python 3"
    },
    "language_info": {
      "name": "python"
    }
  },
  "cells": [
    {
      "cell_type": "markdown",
      "metadata": {
        "id": "view-in-github",
        "colab_type": "text"
      },
      "source": [
        "<a href=\"https://colab.research.google.com/github/charlieojackson/weighted_average_rank/blob/main/Weighted_Average_Rank.ipynb\" target=\"_parent\"><img src=\"https://colab.research.google.com/assets/colab-badge.svg\" alt=\"Open In Colab\"/></a>"
      ]
    },
    {
      "cell_type": "code",
      "metadata": {
        "id": "0BQiDwC2hNMQ"
      },
      "source": [
        "import pandas as pd\n",
        "import numpy as np"
      ],
      "execution_count": null,
      "outputs": []
    },
    {
      "cell_type": "markdown",
      "metadata": {
        "id": "7bCrCSua0J76"
      },
      "source": [
        "# Weighted average rank"
      ]
    },
    {
      "cell_type": "markdown",
      "metadata": {
        "id": "NUe_1Y4H1dka"
      },
      "source": [
        "## Weighted average in three steps\n",
        "1. Determine the weight percetange\n",
        "2. Multiply the value by the weight percentage\n",
        "3. Sum the weighted values"
      ]
    },
    {
      "cell_type": "code",
      "metadata": {
        "id": "V9_kZuxqhPyA"
      },
      "source": [
        "df = pd.DataFrame({'keyword':['sofa', 'sofa grey', 'sofa red'], 'avg_sv':[1000,100,10], 'pos':[1, 10, 20]})"
      ],
      "execution_count": null,
      "outputs": []
    },
    {
      "cell_type": "code",
      "metadata": {
        "colab": {
          "base_uri": "https://localhost:8080/",
          "height": 142
        },
        "id": "NceuF5ariqUB",
        "outputId": "cb55727c-0650-416b-b0b0-901be14f7f95"
      },
      "source": [
        "df"
      ],
      "execution_count": null,
      "outputs": [
        {
          "output_type": "execute_result",
          "data": {
            "text/html": [
              "<div>\n",
              "<style scoped>\n",
              "    .dataframe tbody tr th:only-of-type {\n",
              "        vertical-align: middle;\n",
              "    }\n",
              "\n",
              "    .dataframe tbody tr th {\n",
              "        vertical-align: top;\n",
              "    }\n",
              "\n",
              "    .dataframe thead th {\n",
              "        text-align: right;\n",
              "    }\n",
              "</style>\n",
              "<table border=\"1\" class=\"dataframe\">\n",
              "  <thead>\n",
              "    <tr style=\"text-align: right;\">\n",
              "      <th></th>\n",
              "      <th>keyword</th>\n",
              "      <th>avg_sv</th>\n",
              "      <th>pos</th>\n",
              "    </tr>\n",
              "  </thead>\n",
              "  <tbody>\n",
              "    <tr>\n",
              "      <th>0</th>\n",
              "      <td>sofa</td>\n",
              "      <td>1000</td>\n",
              "      <td>1</td>\n",
              "    </tr>\n",
              "    <tr>\n",
              "      <th>1</th>\n",
              "      <td>sofa grey</td>\n",
              "      <td>100</td>\n",
              "      <td>10</td>\n",
              "    </tr>\n",
              "    <tr>\n",
              "      <th>2</th>\n",
              "      <td>sofa red</td>\n",
              "      <td>10</td>\n",
              "      <td>20</td>\n",
              "    </tr>\n",
              "  </tbody>\n",
              "</table>\n",
              "</div>"
            ],
            "text/plain": [
              "     keyword  avg_sv  pos\n",
              "0       sofa    1000    1\n",
              "1  sofa grey     100   10\n",
              "2   sofa red      10   20"
            ]
          },
          "metadata": {
            "tags": []
          },
          "execution_count": 54
        }
      ]
    },
    {
      "cell_type": "code",
      "metadata": {
        "id": "6WUrXCYvhi_n"
      },
      "source": [
        "# 1. Determine the weight \n",
        "df['weight_pct'] = df['avg_sv'] / df['avg_sv'].sum()"
      ],
      "execution_count": null,
      "outputs": []
    },
    {
      "cell_type": "code",
      "metadata": {
        "id": "kV407b4eiG1P"
      },
      "source": [
        "# 2. Multiply the weight by each value\n",
        "df['weight_actual'] = df['pos'] * df['weight_pct']"
      ],
      "execution_count": null,
      "outputs": []
    },
    {
      "cell_type": "code",
      "metadata": {
        "colab": {
          "base_uri": "https://localhost:8080/"
        },
        "id": "xgy0FD6Mi5q4",
        "outputId": "00ebfffb-231d-413b-b792-ca0f446d4b0d"
      },
      "source": [
        "# 3. Sum the weights\n",
        "df['weight_actual'].sum()"
      ],
      "execution_count": null,
      "outputs": [
        {
          "output_type": "execute_result",
          "data": {
            "text/plain": [
              "1.9819819819819817"
            ]
          },
          "metadata": {
            "tags": []
          },
          "execution_count": 41
        }
      ]
    },
    {
      "cell_type": "code",
      "metadata": {
        "colab": {
          "base_uri": "https://localhost:8080/",
          "height": 142
        },
        "id": "cG7zt55UurUt",
        "outputId": "95d835ea-a7e0-4c74-8109-f534d0fcde70"
      },
      "source": [
        "df"
      ],
      "execution_count": null,
      "outputs": [
        {
          "output_type": "execute_result",
          "data": {
            "text/html": [
              "<div>\n",
              "<style scoped>\n",
              "    .dataframe tbody tr th:only-of-type {\n",
              "        vertical-align: middle;\n",
              "    }\n",
              "\n",
              "    .dataframe tbody tr th {\n",
              "        vertical-align: top;\n",
              "    }\n",
              "\n",
              "    .dataframe thead th {\n",
              "        text-align: right;\n",
              "    }\n",
              "</style>\n",
              "<table border=\"1\" class=\"dataframe\">\n",
              "  <thead>\n",
              "    <tr style=\"text-align: right;\">\n",
              "      <th></th>\n",
              "      <th>test</th>\n",
              "      <th>avg_sv</th>\n",
              "      <th>pos</th>\n",
              "      <th>weight_pct</th>\n",
              "      <th>weight_actual</th>\n",
              "    </tr>\n",
              "  </thead>\n",
              "  <tbody>\n",
              "    <tr>\n",
              "      <th>0</th>\n",
              "      <td>sofa</td>\n",
              "      <td>1000</td>\n",
              "      <td>1</td>\n",
              "      <td>0.900901</td>\n",
              "      <td>0.900901</td>\n",
              "    </tr>\n",
              "    <tr>\n",
              "      <th>1</th>\n",
              "      <td>sofa grey</td>\n",
              "      <td>100</td>\n",
              "      <td>10</td>\n",
              "      <td>0.090090</td>\n",
              "      <td>0.900901</td>\n",
              "    </tr>\n",
              "    <tr>\n",
              "      <th>2</th>\n",
              "      <td>sofa red</td>\n",
              "      <td>10</td>\n",
              "      <td>20</td>\n",
              "      <td>0.009009</td>\n",
              "      <td>0.180180</td>\n",
              "    </tr>\n",
              "  </tbody>\n",
              "</table>\n",
              "</div>"
            ],
            "text/plain": [
              "        test  avg_sv  pos  weight_pct  weight_actual\n",
              "0       sofa    1000    1    0.900901       0.900901\n",
              "1  sofa grey     100   10    0.090090       0.900901\n",
              "2   sofa red      10   20    0.009009       0.180180"
            ]
          },
          "metadata": {
            "tags": []
          },
          "execution_count": 42
        }
      ]
    },
    {
      "cell_type": "markdown",
      "metadata": {
        "id": "GgVtbR5Q1uei"
      },
      "source": [
        "## Putting it together into a function"
      ]
    },
    {
      "cell_type": "code",
      "metadata": {
        "id": "MVzFDg1jmbka"
      },
      "source": [
        "# put into a function\n",
        "def add_weight_column(pos, weight):\n",
        "  weight_pct    = weight / df['avg_sv'].sum()\n",
        "  weight_actual = weight_pct * pos\n",
        "  return [weight_pct, weight_actual]"
      ],
      "execution_count": null,
      "outputs": []
    },
    {
      "cell_type": "code",
      "metadata": {
        "id": "-5ov9UMXwUA_"
      },
      "source": [
        "for index, row in df.iterrows():\n",
        "  pos    = row['pos']\n",
        "  weight = row['avg_sv']\n",
        "\n",
        "  weight_pct, weight_actual = add_weight_column(pos, weight)\n",
        "  df.loc[index,'weight_pct']    = weight_pct\n",
        "  df.loc[index,'weight_actual'] = weight_actual"
      ],
      "execution_count": null,
      "outputs": []
    },
    {
      "cell_type": "code",
      "metadata": {
        "colab": {
          "base_uri": "https://localhost:8080/",
          "height": 142
        },
        "id": "gYb8F7S6mUG_",
        "outputId": "4d249906-9dd1-4b96-ca19-2ee1c877bb76"
      },
      "source": [
        "df"
      ],
      "execution_count": null,
      "outputs": [
        {
          "output_type": "execute_result",
          "data": {
            "text/html": [
              "<div>\n",
              "<style scoped>\n",
              "    .dataframe tbody tr th:only-of-type {\n",
              "        vertical-align: middle;\n",
              "    }\n",
              "\n",
              "    .dataframe tbody tr th {\n",
              "        vertical-align: top;\n",
              "    }\n",
              "\n",
              "    .dataframe thead th {\n",
              "        text-align: right;\n",
              "    }\n",
              "</style>\n",
              "<table border=\"1\" class=\"dataframe\">\n",
              "  <thead>\n",
              "    <tr style=\"text-align: right;\">\n",
              "      <th></th>\n",
              "      <th>test</th>\n",
              "      <th>avg_sv</th>\n",
              "      <th>pos</th>\n",
              "      <th>weight_pct</th>\n",
              "      <th>weight_actual</th>\n",
              "    </tr>\n",
              "  </thead>\n",
              "  <tbody>\n",
              "    <tr>\n",
              "      <th>0</th>\n",
              "      <td>sofa</td>\n",
              "      <td>1000</td>\n",
              "      <td>1</td>\n",
              "      <td>0.900901</td>\n",
              "      <td>0.900901</td>\n",
              "    </tr>\n",
              "    <tr>\n",
              "      <th>1</th>\n",
              "      <td>sofa grey</td>\n",
              "      <td>100</td>\n",
              "      <td>10</td>\n",
              "      <td>0.090090</td>\n",
              "      <td>0.900901</td>\n",
              "    </tr>\n",
              "    <tr>\n",
              "      <th>2</th>\n",
              "      <td>sofa red</td>\n",
              "      <td>10</td>\n",
              "      <td>20</td>\n",
              "      <td>0.009009</td>\n",
              "      <td>0.180180</td>\n",
              "    </tr>\n",
              "  </tbody>\n",
              "</table>\n",
              "</div>"
            ],
            "text/plain": [
              "        test  avg_sv  pos  weight_pct  weight_actual\n",
              "0       sofa    1000    1    0.900901       0.900901\n",
              "1  sofa grey     100   10    0.090090       0.900901\n",
              "2   sofa red      10   20    0.009009       0.180180"
            ]
          },
          "metadata": {
            "tags": []
          },
          "execution_count": 51
        }
      ]
    },
    {
      "cell_type": "code",
      "metadata": {
        "colab": {
          "base_uri": "https://localhost:8080/"
        },
        "id": "2qgoT6L8yH9f",
        "outputId": "f01a281d-1c5e-4045-b144-8f7c249d91e4"
      },
      "source": [
        "df.weight_actual.sum()"
      ],
      "execution_count": null,
      "outputs": [
        {
          "output_type": "execute_result",
          "data": {
            "text/plain": [
              "1.9819819819819817"
            ]
          },
          "metadata": {
            "tags": []
          },
          "execution_count": 52
        }
      ]
    },
    {
      "cell_type": "markdown",
      "metadata": {
        "id": "M3VNPUru0V0x"
      },
      "source": [
        "# Weighted average with groupby"
      ]
    },
    {
      "cell_type": "code",
      "metadata": {
        "id": "_N7Y8QPE0YCw"
      },
      "source": [
        "df = pd.DataFrame({'keyword':['table', 'wood table', 'round table', 'sofa grey', '2 seater sofa', 'wooden chair', 'rocking chair'], 'group':['table', 'table','table', 'sofa', 'sofa', 'chair', 'chair'], 'avg_sv':[1000,100,10, 200, 100, 500, 1000], 'pos':[1, 10, 20, 15, 11, 16, 9]})"
      ],
      "execution_count": null,
      "outputs": []
    },
    {
      "cell_type": "code",
      "metadata": {
        "colab": {
          "base_uri": "https://localhost:8080/",
          "height": 266
        },
        "id": "si1sRWMR058v",
        "outputId": "f897a299-43b9-44fc-b6d2-1d54012561c9"
      },
      "source": [
        "df"
      ],
      "execution_count": null,
      "outputs": [
        {
          "output_type": "execute_result",
          "data": {
            "text/html": [
              "<div>\n",
              "<style scoped>\n",
              "    .dataframe tbody tr th:only-of-type {\n",
              "        vertical-align: middle;\n",
              "    }\n",
              "\n",
              "    .dataframe tbody tr th {\n",
              "        vertical-align: top;\n",
              "    }\n",
              "\n",
              "    .dataframe thead th {\n",
              "        text-align: right;\n",
              "    }\n",
              "</style>\n",
              "<table border=\"1\" class=\"dataframe\">\n",
              "  <thead>\n",
              "    <tr style=\"text-align: right;\">\n",
              "      <th></th>\n",
              "      <th>keyword</th>\n",
              "      <th>group</th>\n",
              "      <th>avg_sv</th>\n",
              "      <th>pos</th>\n",
              "    </tr>\n",
              "  </thead>\n",
              "  <tbody>\n",
              "    <tr>\n",
              "      <th>0</th>\n",
              "      <td>table</td>\n",
              "      <td>table</td>\n",
              "      <td>1000</td>\n",
              "      <td>1</td>\n",
              "    </tr>\n",
              "    <tr>\n",
              "      <th>1</th>\n",
              "      <td>wood table</td>\n",
              "      <td>table</td>\n",
              "      <td>100</td>\n",
              "      <td>10</td>\n",
              "    </tr>\n",
              "    <tr>\n",
              "      <th>2</th>\n",
              "      <td>round table</td>\n",
              "      <td>table</td>\n",
              "      <td>10</td>\n",
              "      <td>20</td>\n",
              "    </tr>\n",
              "    <tr>\n",
              "      <th>3</th>\n",
              "      <td>sofa grey</td>\n",
              "      <td>sofa</td>\n",
              "      <td>200</td>\n",
              "      <td>15</td>\n",
              "    </tr>\n",
              "    <tr>\n",
              "      <th>4</th>\n",
              "      <td>2 seater sofa</td>\n",
              "      <td>sofa</td>\n",
              "      <td>100</td>\n",
              "      <td>11</td>\n",
              "    </tr>\n",
              "    <tr>\n",
              "      <th>5</th>\n",
              "      <td>wooden chair</td>\n",
              "      <td>chair</td>\n",
              "      <td>500</td>\n",
              "      <td>16</td>\n",
              "    </tr>\n",
              "    <tr>\n",
              "      <th>6</th>\n",
              "      <td>rocking chair</td>\n",
              "      <td>chair</td>\n",
              "      <td>1000</td>\n",
              "      <td>9</td>\n",
              "    </tr>\n",
              "  </tbody>\n",
              "</table>\n",
              "</div>"
            ],
            "text/plain": [
              "         keyword  group  avg_sv  pos\n",
              "0          table  table    1000    1\n",
              "1     wood table  table     100   10\n",
              "2    round table  table      10   20\n",
              "3      sofa grey   sofa     200   15\n",
              "4  2 seater sofa   sofa     100   11\n",
              "5   wooden chair  chair     500   16\n",
              "6  rocking chair  chair    1000    9"
            ]
          },
          "metadata": {
            "tags": []
          },
          "execution_count": 56
        }
      ]
    },
    {
      "cell_type": "code",
      "metadata": {
        "id": "yuHW5Np507vC"
      },
      "source": [
        "def wavg(group, avg_name, weight_name):\n",
        "    \"\"\" http://stackoverflow.com/questions/10951341/pandas-dataframe-aggregate-function-using-multiple-columns\n",
        "    In rare instance, we may not have weights, so just return the mean. Customize this if your business case\n",
        "    should return otherwise.\n",
        "    \"\"\"\n",
        "    d = group[avg_name]\n",
        "    w = group[weight_name]\n",
        "    try:\n",
        "        return (d * w).sum() / w.sum()\n",
        "    except ZeroDivisionError:\n",
        "        return d.mean()"
      ],
      "execution_count": null,
      "outputs": []
    },
    {
      "cell_type": "code",
      "metadata": {
        "colab": {
          "base_uri": "https://localhost:8080/"
        },
        "id": "uE--9J4t1NrR",
        "outputId": "a2ac774a-d26a-4fb0-8fb5-57a54befd4a5"
      },
      "source": [
        "df.groupby('group').apply(wavg, 'pos', 'avg_sv')"
      ],
      "execution_count": null,
      "outputs": [
        {
          "output_type": "execute_result",
          "data": {
            "text/plain": [
              "group\n",
              "chair    11.333333\n",
              "sofa     13.666667\n",
              "table     1.981982\n",
              "dtype: float64"
            ]
          },
          "metadata": {
            "tags": []
          },
          "execution_count": 59
        }
      ]
    }
  ]
}